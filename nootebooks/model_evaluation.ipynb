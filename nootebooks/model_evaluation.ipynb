{
 "cells": [
  {
   "cell_type": "markdown",
   "metadata": {},
   "source": [
    "### ***Nootebook to model_evaluation.***"
   ]
  },
  {
   "cell_type": "markdown",
   "metadata": {},
   "source": [
    "Using this notebook when:\n",
    "\n",
    "You want to see the model metrics graphically, such as ROC curves, confusion matrix, graphs of fitted vs predicted values, etc.\n",
    "\n",
    "Rely on the src/evaluate.py module that calls the testing data and the deployed endpoint."
   ]
  }
 ],
 "metadata": {
  "language_info": {
   "name": "python"
  }
 },
 "nbformat": 4,
 "nbformat_minor": 2
}
