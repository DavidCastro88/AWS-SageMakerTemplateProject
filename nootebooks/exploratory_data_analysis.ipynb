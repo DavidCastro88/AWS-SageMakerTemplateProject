{
 "cells": [
  {
   "cell_type": "markdown",
   "metadata": {},
   "source": [
    "### ***Nootebook to Exploratory data analysis.***\n",
    "\n",
    "It implies:\n",
    "\n",
    "- Data Visualization and Summary\n",
    "\n",
    "- Identification of Patterns and Relationships\n",
    "\n",
    "- Detection of Anomalies and Outliers\n",
    "\n",
    "- Analysis of Categorical Variables\n",
    "\n",
    "- Exploration of Dependent and Independent Variables"
   ]
  },
  {
   "cell_type": "code",
   "execution_count": 1,
   "metadata": {},
   "outputs": [],
   "source": [
    "#Import data from data/processed making sure we have loaded data from an S3 bucket (download_data_from_s3.py)\n",
    "\n",
    "# EDA\n",
    "\n",
    "# If is necesary, save and export data to data/processed (data,train,validate,test), and then upload to S3 bucket (upload_data_from_s3.py)"
   ]
  }
 ],
 "metadata": {
  "kernelspec": {
   "display_name": "Python 3",
   "language": "python",
   "name": "python3"
  },
  "language_info": {
   "codemirror_mode": {
    "name": "ipython",
    "version": 3
   },
   "file_extension": ".py",
   "mimetype": "text/x-python",
   "name": "python",
   "nbconvert_exporter": "python",
   "pygments_lexer": "ipython3",
   "version": "3.12.2"
  }
 },
 "nbformat": 4,
 "nbformat_minor": 2
}
