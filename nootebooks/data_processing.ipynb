{
 "cells": [
  {
   "cell_type": "markdown",
   "metadata": {},
   "source": [
    "### ***Nootebook to Data Processing.***"
   ]
  },
  {
   "cell_type": "markdown",
   "metadata": {},
   "source": [
    "In this stage, the initial management of the base data is done depending on the source, tasks such as:\n",
    "\n",
    "- Data Cleaning\n",
    "\n",
    "- Data Transformation\n",
    "\n",
    "- Coding of Categorical Variables\n",
    "\n",
    "- Feature Transformations\n",
    "\n",
    "- Feature Selection\n",
    "\n",
    "- Elimination of Irrelevant Features\n",
    "\n",
    "- Feature Selection\n",
    "\n",
    "- Data Integration\n",
    "\n",
    "- Fusion of Data Sets\n",
    "\n",
    "- Dimensionality Reduction\n",
    "\n",
    "- Principal Component Analysis (PCA)\n",
    "\n",
    "- Data Division"
   ]
  },
  {
   "cell_type": "code",
   "execution_count": 1,
   "metadata": {},
   "outputs": [],
   "source": [
    "#Import data from data/raw making sure we have loaded data from an S3 bucket (download_data_from_s3.py)\n",
    "\n",
    "# Processing data \n",
    "\n",
    "# Save and Export data to data/processed (data,train,validate,test), and then upload to S3 bucket (upload_data_from_s3.py)"
   ]
  }
 ],
 "metadata": {
  "kernelspec": {
   "display_name": "Python 3",
   "language": "python",
   "name": "python3"
  },
  "language_info": {
   "codemirror_mode": {
    "name": "ipython",
    "version": 3
   },
   "file_extension": ".py",
   "mimetype": "text/x-python",
   "name": "python",
   "nbconvert_exporter": "python",
   "pygments_lexer": "ipython3",
   "version": "3.12.2"
  }
 },
 "nbformat": 4,
 "nbformat_minor": 2
}
